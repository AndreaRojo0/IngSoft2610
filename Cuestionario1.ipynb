{
  "nbformat": 4,
  "nbformat_minor": 0,
  "metadata": {
    "colab": {
      "name": "Cuestionario1.ipynb",
      "provenance": [],
      "authorship_tag": "ABX9TyPvLx2slQINI8ZLzIF8P5+A",
      "include_colab_link": true
    },
    "kernelspec": {
      "name": "python3",
      "display_name": "Python 3"
    }
  },
  "cells": [
    {
      "cell_type": "markdown",
      "metadata": {
        "id": "view-in-github",
        "colab_type": "text"
      },
      "source": [
        "<a href=\"https://colab.research.google.com/github/AndreaRojo0/IngSoft2610/blob/main/Cuestionario1.ipynb\" target=\"_parent\"><img src=\"https://colab.research.google.com/assets/colab-badge.svg\" alt=\"Open In Colab\"/></a>"
      ]
    },
    {
      "cell_type": "code",
      "metadata": {
        "id": "9B22X-zvRVgx"
      },
      "source": [
        "#Dockerfile\r\n",
        "FROM debian\r\n",
        "RUN apt-get update\r\n",
        "RUN apt-get install -y cowsay fortune\r\n",
        "COPY programa.sh /\r\n",
        "ENTRYPOINT [\"programa.sh\"]"
      ],
      "execution_count": null,
      "outputs": []
    },
    {
      "cell_type": "code",
      "metadata": {
        "id": "5zCsUFsERaXw"
      },
      "source": [
        "#!/bin/ bash\r\n",
        "if[$#-eq0];then\r\n",
        "  /usr/games/fortune | /usr/games/cowsay\r\n",
        "else\r\n",
        "  /usr/cowsay \"$@\"\r\n",
        "fi\r\n"
      ],
      "execution_count": null,
      "outputs": []
    }
  ]
}